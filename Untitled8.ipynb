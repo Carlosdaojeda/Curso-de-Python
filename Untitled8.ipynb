{
  "nbformat": 4,
  "nbformat_minor": 0,
  "metadata": {
    "colab": {
      "name": "Untitled8.ipynb",
      "provenance": [],
      "authorship_tag": "ABX9TyO/wom7iLP7L+JzvwHf/2la",
      "include_colab_link": true
    },
    "kernelspec": {
      "name": "python3",
      "display_name": "Python 3"
    },
    "language_info": {
      "name": "python"
    }
  },
  "cells": [
    {
      "cell_type": "markdown",
      "metadata": {
        "id": "view-in-github",
        "colab_type": "text"
      },
      "source": [
        "<a href=\"https://colab.research.google.com/github/Carlosdaojeda/Curso-de-Python/blob/main/Untitled8.ipynb\" target=\"_parent\"><img src=\"https://colab.research.google.com/assets/colab-badge.svg\" alt=\"Open In Colab\"/></a>"
      ]
    },
    {
      "cell_type": "markdown",
      "metadata": {
        "id": "hzy8tCX1WlbB"
      },
      "source": [
        "Ejercicios de la sesión 3\n",
        "1.- Piensa en todos los casos posibles para que el programa que se realizó en la sesión número tres donde se resolvió el algoritmo de mínimo y máximo. Lista todos los casos que pienses, observa el ejemplo. Lista al menos 5\n",
        "Una lista vacía\n",
        "Una lista con un solo valor minímo 3. 4. 5.\n",
        "Vamos a expresar nuestros casos como diccionarios para probar muy facilmente nuestros algoritmos, cada diccionario llevará dos keys, una estrada que es la lista a ingresar y una salida, que es lo que esperas que retorne tu función. Observemos:\n",
        "\n",
        "Consejo: siempre que se maneje una lista vacía, la salida puede ser 0"
      ]
    },
    {
      "cell_type": "code",
      "metadata": {
        "id": "8KCkH0dfWtq0"
      },
      "source": [
        "#Lista vacía\n",
        "test = {\n",
        "    'input': {\n",
        "        'nums': []\n",
        "    },\n",
        "    'output': 0\n",
        "}\n",
        "#Lista con 1 solo valor minímo\n",
        "test1 = {\n",
        "    'input': {\n",
        "        'nums': [2, 3, 1, 4, 5, 6, 7, 8]\n",
        "    },\n",
        "    'output': 1\n",
        "}\n",
        "#Lista con elemento repetido\n",
        "test2 = {\n",
        "    'input': {\n",
        "        'nums': [3, 3, 3, 3, 3, 3]\n",
        "    },\n",
        "    'output': 3\n",
        "}\n",
        "#Lista creciente\n",
        "test3 = {\n",
        "    'input': {\n",
        "        'nums': [5, 6, 7, 8, 9, 10]\n",
        "    },\n",
        "    'output': 5\n",
        "}\n",
        "#Lista decreciente\n",
        "test4 = {\n",
        "    'input': {\n",
        "        'nums': [10, 9, 8, 7, 6, 5]\n",
        "    },\n",
        "    'output': 5\n",
        "}\n",
        "#Lista pares repetidos\n",
        "test5 = {\n",
        "    'input': {\n",
        "        'nums': [1, 1, 2, 2, 3, 3, 4, 4]\n",
        "    },\n",
        "    'output': 1\n",
        "}"
      ],
      "execution_count": null,
      "outputs": []
    },
    {
      "cell_type": "markdown",
      "metadata": {
        "id": "sle9IJWVWt-P"
      },
      "source": [
        "Recordemos que para acceder usamos la key, por ejemplo, si yo quiero probar mi lista e ingresarla dentro de una función, solo usamos la key 'input' y la key dentro de ínput, en este caso, 'nums'. Lo mismo para la salida"
      ]
    },
    {
      "cell_type": "markdown",
      "metadata": {
        "id": "e4e8inkObdmb"
      },
      "source": [
        "Ejercicio 2: ¿Recuerdas la teoría de la sesión de este ejercicio?\n",
        "\n",
        "Explica brevemente en una serie de pasos como trabaja el primer algoritmo que es el peor caso."
      ]
    },
    {
      "cell_type": "code",
      "metadata": {
        "id": "_X_9aqngcTRJ"
      },
      "source": [
        "def findMin(alist):\n",
        "  minimo = alist[0] ####------O(n^2)\n",
        "  ####-------- Worst Case\n",
        "  for i in alist:\n",
        "    valor_minimo = True\n",
        "    for j in alist:\n",
        "      if i > j :\n",
        "        valor_minimo = False\n",
        "    if valor_minimo:\n",
        "      minimo = i\n",
        "  return minimo\n"
      ],
      "execution_count": null,
      "outputs": []
    },
    {
      "cell_type": "markdown",
      "metadata": {
        "id": "Z6dQrPMJcYGc"
      },
      "source": [
        "Ejercicio 3: Prueba tu código ingresando en la función tus casos que están almacenados en el diccionario, ejemplo: Tienes que agregar la solución cuando la lista este vacía."
      ]
    },
    {
      "cell_type": "code",
      "metadata": {
        "id": "D36tbQLDdHb-"
      },
      "source": [
        "#Función contemplando lista vacía (findMinMod)\n",
        "def findMinMod(alist):\n",
        "  if len(alist) == 0:\n",
        "    minimo = 0\n",
        "    return minimo\n",
        "  minimo = alist[0] ####------O(n^2)\n",
        "  ####-------- Worst Case\n",
        "  for i in alist:\n",
        "    valor_minimo = True\n",
        "    for j in alist:\n",
        "      if i > j :\n",
        "        valor_minimo = False\n",
        "    if valor_minimo:\n",
        "      minimo = i\n",
        "  return minimo\n",
        "print(\"Caso 1: \",findMinMod(test['input']['nums']) == test['output'])\n",
        "print(\"Caso 2: \",findMinMod(test1['input']['nums']) == test1['output'])\n",
        "print(\"Caso 3: \",findMinMod(test2['input']['nums']) == test2['output'])\n",
        "print(\"Caso 4: \",findMinMod(test3['input']['nums']) == test3['output'])\n",
        "print(\"Caso 5: \",findMinMod(test4['input']['nums']) == test4['output'])\n",
        "print(\"Caso 6: \",findMinMod(test5['input']['nums']) == test5['output'])"
      ],
      "execution_count": null,
      "outputs": []
    },
    {
      "cell_type": "markdown",
      "metadata": {
        "id": "xCP1tgewdPL1"
      },
      "source": [
        "Ejercicio 4: Explica brevemente en una serie de pasos como trabaja el segundo algoritmo, pon ejemplos con listas o imágenes si lo requieres"
      ]
    },
    {
      "cell_type": "code",
      "metadata": {
        "id": "FJ7qLZCqdQC-"
      },
      "source": [
        "def findMinOptimizado(lista_):\n",
        "  ##Best case\n",
        "  set_min = lista_[0]\n",
        "  for i in lista_: ##----------> O(n)\n",
        "    if i < set_min:\n",
        "      set_min = i\n",
        "  return set_min"
      ],
      "execution_count": null,
      "outputs": []
    },
    {
      "cell_type": "markdown",
      "metadata": {
        "id": "GA9aCR1FdbsO"
      },
      "source": [
        "\n",
        "Ejercicio 5: Evalúa tus casos al igual que en el algotimo anterior e implementa cuando una lista es vacía"
      ]
    },
    {
      "cell_type": "code",
      "metadata": {
        "id": "i5vjBiEBdnW0"
      },
      "source": [
        "def findMinOptimizadoMod(lista_):\n",
        "  ##Best case\n",
        "  if len(lista_) == 0:\n",
        "    set_min = 0\n",
        "    return set_min\n",
        "  set_min = lista_[0]\n",
        "  for i in lista_: ##----------> O(n)\n",
        "    if i < set_min:\n",
        "      set_min = i\n",
        "  return set_min\n",
        "print(\"Caso 1: \",findMinOptimizadoMod(test['input']['nums']) == test['output'])\n",
        "print(\"Caso 2: \",findMinOptimizadoMod(test1['input']['nums']) == test1['output'])\n",
        "print(\"Caso 3: \",findMinOptimizadoMod(test2['input']['nums']) == test2['output'])\n",
        "print(\"Caso 4: \",findMinOptimizadoMod(test3['input']['nums']) == test3['output'])\n",
        "print(\"Caso 5: \",findMinOptimizadoMod(test4['input']['nums']) == test4['output'])\n",
        "print(\"Caso 6: \",findMinOptimizadoMod(test5['input']['nums']) == test5['output'])"
      ],
      "execution_count": null,
      "outputs": []
    }
  ]
}